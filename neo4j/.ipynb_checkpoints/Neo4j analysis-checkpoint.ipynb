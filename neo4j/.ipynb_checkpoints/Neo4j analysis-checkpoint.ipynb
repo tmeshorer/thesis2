{
 "cells": [
  {
   "cell_type": "code",
   "execution_count": 6,
   "metadata": {
    "collapsed": true
   },
   "outputs": [],
   "source": [
    "from corpus import *\n",
    "from query import *"
   ]
  },
  {
   "cell_type": "code",
   "execution_count": 7,
   "metadata": {
    "collapsed": true
   },
   "outputs": [],
   "source": [
    "g = Neo4JGraph(\"neo4j\", \"Israel1971\")\n",
    "g.connect()"
   ]
  },
  {
   "cell_type": "code",
   "execution_count": 8,
   "metadata": {
    "collapsed": true
   },
   "outputs": [],
   "source": [
    "# read all the dialog acts using the rest clients\n",
    "from neo4jrestclient.client import GraphDatabase\n",
    "\n"
   ]
  },
  {
   "cell_type": "code",
   "execution_count": 9,
   "metadata": {
    "collapsed": false
   },
   "outputs": [],
   "source": [
    "gdb = GraphDatabase(\"http://localhost:7474/db/data/\",username=\"neo4j\",password=\"Israel1971\")"
   ]
  },
  {
   "cell_type": "code",
   "execution_count": 47,
   "metadata": {
    "collapsed": false
   },
   "outputs": [
    {
     "ename": "NameError",
     "evalue": "name 'w' is not defined",
     "output_type": "error",
     "traceback": [
      "\u001b[0;31m---------------------------------------------------------------------------\u001b[0m",
      "\u001b[0;31mNameError\u001b[0m                                 Traceback (most recent call last)",
      "\u001b[0;32m<ipython-input-47-1b16ac848905>\u001b[0m in \u001b[0;36m<module>\u001b[0;34m()\u001b[0m\n\u001b[1;32m     15\u001b[0m \u001b[1;33m\u001b[0m\u001b[0m\n\u001b[1;32m     16\u001b[0m \u001b[1;32mfor\u001b[0m \u001b[0mk\u001b[0m\u001b[1;33m,\u001b[0m \u001b[0mv\u001b[0m \u001b[1;32min\u001b[0m \u001b[0msorted\u001b[0m\u001b[1;33m(\u001b[0m\u001b[0mids\u001b[0m\u001b[1;33m.\u001b[0m\u001b[0mitems\u001b[0m\u001b[1;33m(\u001b[0m\u001b[1;33m)\u001b[0m\u001b[1;33m)\u001b[0m\u001b[1;33m:\u001b[0m\u001b[1;33m\u001b[0m\u001b[0m\n\u001b[0;32m---> 17\u001b[0;31m     \u001b[0mq\u001b[0m\u001b[1;33m=\u001b[0m \u001b[1;34m'MATCH (dact_start:TIMEPOINT)-[dact:DIALACT]->(dact_end:TIMEPOINT) WHERE dact.id = %s SET dact.words_sofar=%s RETURN dact'\u001b[0m \u001b[1;33m%\u001b[0m \u001b[1;33m(\u001b[0m\u001b[0mk\u001b[0m\u001b[1;33m,\u001b[0m\u001b[0mw\u001b[0m\u001b[1;33m)\u001b[0m\u001b[1;33m\u001b[0m\u001b[0m\n\u001b[0m\u001b[1;32m     18\u001b[0m     \u001b[0mdacts\u001b[0m \u001b[1;33m=\u001b[0m \u001b[0mgdb\u001b[0m\u001b[1;33m.\u001b[0m\u001b[0mquery\u001b[0m\u001b[1;33m(\u001b[0m\u001b[0mq\u001b[0m\u001b[1;33m=\u001b[0m\u001b[0mq\u001b[0m\u001b[1;33m)\u001b[0m\u001b[1;33m\u001b[0m\u001b[0m\n\u001b[1;32m     19\u001b[0m     \u001b[1;32mprint\u001b[0m \u001b[0mk\u001b[0m\u001b[1;33m\u001b[0m\u001b[0m\n",
      "\u001b[0;31mNameError\u001b[0m: name 'w' is not defined"
     ]
    }
   ],
   "source": [
    "ids = dict()\n",
    "q = \"MATCH (turn_start:TIMEPOINT)-[turn:TURN]->(turn_end:TIMEPOINT) RETURN turn\"\n",
    "turns = gdb.query(q=q)\n",
    "for each_turn in turns:\n",
    "    start = each_turn[0][\"data\"][\"start\"]\n",
    "    end = each_turn[0][\"data\"][\"end\"]\n",
    "    q_dacts = \"MATCH (dact_start:TIMEPOINT)-[dact:DIALACT]->(dact_end:TIMEPOINT) WHERE %f<=dact_start.time AND %f>=dact_end.time return dact\" %(start,end)\n",
    "    dacts = gdb.query(q=q_dacts)\n",
    "    total_words = 0\n",
    "    for da in dacts:\n",
    "        words   = da[0]['data']['words']\n",
    "        da_id = da[0]['data']['id']\n",
    "        total_words += words\n",
    "        ids[da_id] = total_words\n",
    " \n",
    "for k, v in sorted(ids.items()):\n",
    "    q= 'MATCH (dact_start:TIMEPOINT)-[dact:DIALACT]->(dact_end:TIMEPOINT) WHERE dact.id = %s SET dact.words_sofar=%s RETURN dact' % (k,v)\n",
    "    dacts = gdb.query(q=q)\n",
    "    print k\n",
    "    print v\n",
    "    \n",
    "    \n",
    "    "
   ]
  }
 ],
 "metadata": {
  "anaconda-cloud": {},
  "kernelspec": {
   "display_name": "Python [default]",
   "language": "python",
   "name": "python2"
  },
  "language_info": {
   "codemirror_mode": {
    "name": "ipython",
    "version": 2
   },
   "file_extension": ".py",
   "mimetype": "text/x-python",
   "name": "python",
   "nbconvert_exporter": "python",
   "pygments_lexer": "ipython2",
   "version": "2.7.12"
  }
 },
 "nbformat": 4,
 "nbformat_minor": 1
}
