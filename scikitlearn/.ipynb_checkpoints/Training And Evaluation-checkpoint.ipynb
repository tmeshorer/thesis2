{
 "cells": [
  {
   "cell_type": "code",
   "execution_count": 1,
   "metadata": {
    "collapsed": false
   },
   "outputs": [
    {
     "name": "stderr",
     "output_type": "stream",
     "text": [
      "C:\\Program Files\\Anaconda2\\lib\\site-packages\\sklearn\\cross_validation.py:44: DeprecationWarning: This module was deprecated in version 0.18 in favor of the model_selection module into which all the refactored classes and functions are moved. Also note that the interface of the new CV iterators are different from that of this module. This module will be removed in 0.20.\n",
      "  \"This module will be removed in 0.20.\", DeprecationWarning)\n",
      "C:\\Program Files\\Anaconda2\\lib\\site-packages\\sklearn\\grid_search.py:43: DeprecationWarning: This module was deprecated in version 0.18 in favor of the model_selection module into which all the refactored classes and functions are moved. This module will be removed in 0.20.\n",
      "  DeprecationWarning)\n"
     ]
    }
   ],
   "source": [
    "import pandas as pd\n",
    "import numpy as np\n",
    "import matplotlib\n",
    "pd.set_option('display.max_rows', 500)\n",
    "\n",
    "%matplotlib inline\n",
    "import warnings\n",
    "warnings.simplefilter('ignore', DeprecationWarning)\n",
    "\n",
    "import pandas as pd\n",
    "import numpy as np\n",
    "import matplotlib.pyplot as plt\n",
    "from sklearn.cross_validation import train_test_split\n",
    "from sklearn.linear_model import LogisticRegression\n",
    "from sklearn.metrics import accuracy_score\n",
    "from sklearn.ensemble import RandomForestClassifier\n",
    "from sklearn.cross_validation import cross_val_score\n",
    "from sklearn.metrics import classification_report\n",
    "from sklearn.svm import LinearSVC\n",
    "from sklearn.grid_search import GridSearchCV\n",
    "from sklearn.preprocessing import RobustScaler\n",
    "from sklearn.cross_validation import LabelKFold\n",
    "from scipy import interp\n",
    "from sklearn import cross_validation\n",
    "import pylab as pl\n",
    "\n",
    "from sklearn import svm\n",
    "from sklearn.metrics import roc_curve, auc\n",
    "from os import environ\n",
    "import matplotlib\n",
    "import numpy as np\n",
    "import matplotlib.pyplot as plt\n",
    "%matplotlib inline "
   ]
  },
  {
   "cell_type": "code",
   "execution_count": 3,
   "metadata": {
    "collapsed": true
   },
   "outputs": [],
   "source": [
    "df = pd.read_csv(\"before_training.csv\")"
   ]
  },
  {
   "cell_type": "code",
   "execution_count": 6,
   "metadata": {
    "collapsed": false
   },
   "outputs": [],
   "source": [
    "labels_s = df['hash']\n",
    "labels = labels_s.values\n",
    "label_kfold = LabelKFold(labels,n_folds=10)"
   ]
  },
  {
   "cell_type": "code",
   "execution_count": 7,
   "metadata": {
    "collapsed": true
   },
   "outputs": [],
   "source": [
    "tchange_column = df['tchange']\n",
    "target = tchange_column.values\n",
    "del df['tchange']"
   ]
  },
  {
   "cell_type": "code",
   "execution_count": 8,
   "metadata": {
    "collapsed": true
   },
   "outputs": [],
   "source": [
    "#base line\n",
    "from sklearn.cross_validation import LabelKFold\n",
    "\n",
    "X_only_act = df[[\n",
    " 'Act_%',\n",
    " 'Act_+',\n",
    " 'Act_A',\n",
    " 'Act_AA',\n",
    " 'Act_B',\n",
    " 'Act_NA',\n",
    " 'Act_Q',\n",
    " 'Act_SD',\n",
    " 'Act_SV']]\n",
    "\n",
    "base_line_features_array = X_only_act.values"
   ]
  },
  {
   "cell_type": "code",
   "execution_count": 9,
   "metadata": {
    "collapsed": true
   },
   "outputs": [],
   "source": [
    "X_both_acts = df[[\n",
    " 'Act_%',\n",
    " 'Act_+',\n",
    " 'Act_A',\n",
    " 'Act_AA',\n",
    " 'Act_B',\n",
    " 'Act_NA',\n",
    " 'Act_Q',\n",
    " 'Act_SD',\n",
    " 'Act_SV',\n",
    " 'PAct_%',\n",
    " 'PAct_+',\n",
    " 'PAct_A',\n",
    " 'PAct_AA',\n",
    " 'PAct_B',\n",
    " 'PAct_NA',\n",
    " 'PAct_Q',\n",
    " 'PAct_SD',\n",
    " 'PAct_SV',\n",
    "   ]]\n",
    "\n",
    "both_acts_features_array = X_both_acts.values"
   ]
  },
  {
   "cell_type": "code",
   "execution_count": 10,
   "metadata": {
    "collapsed": true
   },
   "outputs": [],
   "source": [
    "X_only_numeric = df[[\n",
    "     'precent_secs_sofar',\n",
    "     'precent_words_sofar',\n",
    "     'time_control',\n",
    "     'words_control' , \n",
    "    ]]\n",
    "\n",
    "summary_features_array = X_only_numeric.values"
   ]
  },
  {
   "cell_type": "code",
   "execution_count": 11,
   "metadata": {
    "collapsed": true
   },
   "outputs": [],
   "source": [
    "X_all =  df[[\n",
    " 'Act_%',\n",
    " 'Act_+',\n",
    " 'Act_A',\n",
    " 'Act_AA',\n",
    " 'Act_B',\n",
    " 'Act_NA',\n",
    " 'Act_Q',\n",
    " 'Act_SD',\n",
    " 'Act_SV',\n",
    " 'PAct_%',\n",
    " 'PAct_+',\n",
    " 'PAct_A',\n",
    " 'PAct_AA',\n",
    " 'PAct_B',\n",
    " 'PAct_NA',\n",
    " 'PAct_Q',\n",
    " 'PAct_SD',\n",
    " 'PAct_SV',\n",
    " 'precent_secs_sofar',\n",
    " 'precent_words_sofar',\n",
    " 'time_control',\n",
    " 'words_control'\n",
    "   ]]\n",
    "\n",
    "all_features_array = X_all.values"
   ]
  },
  {
   "cell_type": "code",
   "execution_count": 12,
   "metadata": {
    "collapsed": false
   },
   "outputs": [
    {
     "data": {
      "text/plain": [
       "38580"
      ]
     },
     "execution_count": 12,
     "metadata": {},
     "output_type": "execute_result"
    }
   ],
   "source": [
    "len(all_features_array)"
   ]
  },
  {
   "cell_type": "code",
   "execution_count": null,
   "metadata": {
    "collapsed": true
   },
   "outputs": [],
   "source": [
    "result = dict()"
   ]
  },
  {
   "cell_type": "code",
   "execution_count": null,
   "metadata": {
    "collapsed": true
   },
   "outputs": [],
   "source": [
    "rf = RandomForestClassifier(n_estimators=200)\n",
    "x= cross_validation.cross_val_score(rf, all_features_array, target, cv=label_kfold,scoring='roc_auc')\n",
    "result['all_features_array_auc'] = np.mean(x)"
   ]
  },
  {
   "cell_type": "code",
   "execution_count": null,
   "metadata": {
    "collapsed": true
   },
   "outputs": [],
   "source": [
    "rf = RandomForestClassifier(n_estimators=200)\n",
    "x= cross_validation.cross_val_score(rf, summary_features_array, target, cv=label_kfold,scoring='roc_auc')\n",
    "result['summary_features_array_auc'] = np.mean(x)"
   ]
  },
  {
   "cell_type": "code",
   "execution_count": null,
   "metadata": {
    "collapsed": true
   },
   "outputs": [],
   "source": [
    "rf = RandomForestClassifier(n_estimators=200)\n",
    "x= cross_validation.cross_val_score(rf, both_acts_features_array, target, cv=label_kfold,scoring='roc_auc')\n",
    "result['both_acts_features_array_auc'] = np.mean(x)"
   ]
  },
  {
   "cell_type": "code",
   "execution_count": null,
   "metadata": {
    "collapsed": true
   },
   "outputs": [],
   "source": [
    "rf = RandomForestClassifier(n_estimators=200)\n",
    "x= cross_validation.cross_val_score(rf, base_line_features_array, target, cv=label_kfold,scoring='roc_auc')\n",
    "result['base_line_features_array_auc'] = np.mean(x)"
   ]
  },
  {
   "cell_type": "code",
   "execution_count": null,
   "metadata": {
    "collapsed": true
   },
   "outputs": [],
   "source": []
  },
  {
   "cell_type": "code",
   "execution_count": null,
   "metadata": {
    "collapsed": true
   },
   "outputs": [],
   "source": []
  },
  {
   "cell_type": "code",
   "execution_count": null,
   "metadata": {
    "collapsed": true
   },
   "outputs": [],
   "source": []
  },
  {
   "cell_type": "code",
   "execution_count": null,
   "metadata": {
    "collapsed": true
   },
   "outputs": [],
   "source": []
  }
 ],
 "metadata": {
  "kernelspec": {
   "display_name": "Python [default]",
   "language": "python",
   "name": "python2"
  },
  "language_info": {
   "codemirror_mode": {
    "name": "ipython",
    "version": 2
   },
   "file_extension": ".py",
   "mimetype": "text/x-python",
   "name": "python",
   "nbconvert_exporter": "python",
   "pygments_lexer": "ipython2",
   "version": "2.7.12"
  }
 },
 "nbformat": 4,
 "nbformat_minor": 1
}
