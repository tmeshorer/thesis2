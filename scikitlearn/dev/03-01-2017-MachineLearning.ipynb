{
 "cells": [
  {
   "cell_type": "code",
   "execution_count": 1,
   "metadata": {
    "collapsed": false
   },
   "outputs": [
    {
     "name": "stderr",
     "output_type": "stream",
     "text": [
      "C:\\Users\\tmeshorer\\Anaconda2\\lib\\site-packages\\sklearn\\cross_validation.py:44: DeprecationWarning: This module was deprecated in version 0.18 in favor of the model_selection module into which all the refactored classes and functions are moved. Also note that the interface of the new CV iterators are different from that of this module. This module will be removed in 0.20.\n",
      "  \"This module will be removed in 0.20.\", DeprecationWarning)\n",
      "C:\\Users\\tmeshorer\\Anaconda2\\lib\\site-packages\\sklearn\\grid_search.py:43: DeprecationWarning: This module was deprecated in version 0.18 in favor of the model_selection module into which all the refactored classes and functions are moved. This module will be removed in 0.20.\n",
      "  DeprecationWarning)\n"
     ]
    }
   ],
   "source": [
    "import pandas as pd\n",
    "import numpy as np\n",
    "import matplotlib\n",
    "pd.set_option('display.max_rows', 500)\n",
    "\n",
    "%matplotlib inline\n",
    "import warnings\n",
    "warnings.simplefilter('ignore', DeprecationWarning)\n",
    "\n",
    "import pandas as pd\n",
    "import numpy as np\n",
    "import matplotlib.pyplot as plt\n",
    "from sklearn.cross_validation import train_test_split\n",
    "from sklearn.linear_model import LogisticRegression\n",
    "from sklearn.metrics import accuracy_score\n",
    "from sklearn.ensemble import RandomForestClassifier\n",
    "from sklearn.cross_validation import cross_val_score\n",
    "from sklearn.metrics import classification_report\n",
    "from sklearn.svm import LinearSVC\n",
    "from sklearn.grid_search import GridSearchCV\n",
    "from sklearn.preprocessing import RobustScaler\n",
    "from sklearn.cross_validation import LabelKFold\n",
    "from scipy import interp\n",
    "from sklearn import cross_validation\n",
    "import pylab as pl\n",
    "\n",
    "from sklearn import svm\n",
    "from sklearn.metrics import roc_curve, auc\n",
    "from os import environ\n",
    "import matplotlib\n",
    "import numpy as np\n",
    "import matplotlib.pyplot as plt\n",
    "%matplotlib inline "
   ]
  },
  {
   "cell_type": "code",
   "execution_count": 2,
   "metadata": {
    "collapsed": true
   },
   "outputs": [],
   "source": [
    "df = pd.read_csv(\"../data/ml.csv\")"
   ]
  },
  {
   "cell_type": "code",
   "execution_count": 3,
   "metadata": {
    "collapsed": false
   },
   "outputs": [],
   "source": [
    "labels_s = df['hash']\n",
    "labels = labels_s.values\n",
    "label_kfold = LabelKFold(labels,n_folds=10)"
   ]
  },
  {
   "cell_type": "code",
   "execution_count": 4,
   "metadata": {
    "collapsed": true
   },
   "outputs": [],
   "source": [
    "tchange_column = df['tchange']\n",
    "target = tchange_column.values\n",
    "del df['tchange']"
   ]
  },
  {
   "cell_type": "code",
   "execution_count": 5,
   "metadata": {
    "collapsed": true
   },
   "outputs": [],
   "source": [
    "#base line\n",
    "from sklearn.cross_validation import LabelKFold\n",
    "\n",
    "X_only_act = df[[\n",
    " 'Act_%',\n",
    " 'Act_+',\n",
    " 'Act_A',\n",
    " 'Act_AA',\n",
    " 'Act_B',\n",
    " 'Act_NA',\n",
    " 'Act_Q',\n",
    " 'Act_SD',\n",
    " 'Act_SV']]\n",
    "\n",
    "base_line_features_array = X_only_act.values"
   ]
  },
  {
   "cell_type": "code",
   "execution_count": 6,
   "metadata": {
    "collapsed": true
   },
   "outputs": [],
   "source": [
    "X_both_acts = df[[\n",
    " 'Act_%',\n",
    " 'Act_+',\n",
    " 'Act_A',\n",
    " 'Act_AA',\n",
    " 'Act_B',\n",
    " 'Act_NA',\n",
    " 'Act_Q',\n",
    " 'Act_SD',\n",
    " 'Act_SV',\n",
    " 'PAct_%',\n",
    " 'PAct_+',\n",
    " 'PAct_A',\n",
    " 'PAct_AA',\n",
    " 'PAct_B',\n",
    " 'PAct_NA',\n",
    " 'PAct_Q',\n",
    " 'PAct_SD',\n",
    " 'PAct_SV',\n",
    "   ]]\n",
    "\n",
    "both_acts_features_array = X_both_acts.values"
   ]
  },
  {
   "cell_type": "code",
   "execution_count": 7,
   "metadata": {
    "collapsed": true
   },
   "outputs": [],
   "source": [
    "X_only_numeric = df[[\n",
    "     'precent_secs_sofar',\n",
    "     'precent_words_sofar',\n",
    "     'time_control',\n",
    "     'words_control' , \n",
    "    ]]\n",
    "\n",
    "summary_features_array = X_only_numeric.values"
   ]
  },
  {
   "cell_type": "code",
   "execution_count": 8,
   "metadata": {
    "collapsed": true
   },
   "outputs": [],
   "source": [
    "X_all =  df[[\n",
    " 'Act_%',\n",
    " 'Act_+',\n",
    " 'Act_A',\n",
    " 'Act_AA',\n",
    " 'Act_B',\n",
    " 'Act_NA',\n",
    " 'Act_Q',\n",
    " 'Act_SD',\n",
    " 'Act_SV',\n",
    " 'PAct_%',\n",
    " 'PAct_+',\n",
    " 'PAct_A',\n",
    " 'PAct_AA',\n",
    " 'PAct_B',\n",
    " 'PAct_NA',\n",
    " 'PAct_Q',\n",
    " 'PAct_SD',\n",
    " 'PAct_SV',\n",
    " 'precent_secs_sofar',\n",
    " 'precent_words_sofar',\n",
    " 'time_control',\n",
    " 'words_control'\n",
    "   ]]\n",
    "\n",
    "all_features_array = X_all.values"
   ]
  },
  {
   "cell_type": "code",
   "execution_count": 9,
   "metadata": {
    "collapsed": false
   },
   "outputs": [
    {
     "data": {
      "text/plain": [
       "39587"
      ]
     },
     "execution_count": 9,
     "metadata": {},
     "output_type": "execute_result"
    }
   ],
   "source": [
    "len(all_features_array)"
   ]
  },
  {
   "cell_type": "code",
   "execution_count": 26,
   "metadata": {
    "collapsed": false
   },
   "outputs": [
    {
     "name": "stdout",
     "output_type": "stream",
     "text": [
      "running f1 on baseline\n",
      "running f1 on both\n",
      "running f1 on summary\n",
      "running f1 on all\n",
      "running recall on baseline\n",
      "running recall on both\n",
      "running recall on summary\n",
      "running recall on all\n",
      "running precision on baseline\n",
      "running precision on both\n",
      "running precision on summary\n",
      "running precision on all\n",
      "running roc_auc on baseline\n",
      "running roc_auc on both\n",
      "running roc_auc on summary\n",
      "running roc_auc on all\n",
      "running accuracy on baseline\n",
      "running accuracy on both\n",
      "running accuracy on summary\n",
      "running accuracy on all\n"
     ]
    },
    {
     "data": {
      "text/plain": [
       "{'accuracy': {'all': 0.75458683137955418,\n",
       "  'baseline': 0.62431986371844483,\n",
       "  'both': 0.74821476311879331,\n",
       "  'summary': 0.65345462328623449},\n",
       " 'f1': {'all': 0.77523790074971932,\n",
       "  'baseline': 0.57715184657056562,\n",
       "  'both': 0.74784289359006217,\n",
       "  'summary': 0.69246936739115972},\n",
       " 'precision': {'all': 0.77317590335913366,\n",
       "  'baseline': 0.7465070844968269,\n",
       "  'both': 0.82330428662253963,\n",
       "  'summary': 0.67079841380914274},\n",
       " 'recall': {'all': 0.77743657707179237,\n",
       "  'baseline': 0.47067572095894078,\n",
       "  'both': 0.68548649579497423,\n",
       "  'summary': 0.71493673179046302},\n",
       " 'roc_auc': {'all': 0.83512749363837391,\n",
       "  'baseline': 0.65574802268598076,\n",
       "  'both': 0.81083222312824632,\n",
       "  'summary': 0.69038325710339976}}"
      ]
     },
     "execution_count": 26,
     "metadata": {},
     "output_type": "execute_result"
    }
   ],
   "source": [
    "#Use random forest\n",
    "result = dict()\n",
    "measure=['f1','recall','precision','roc_auc','accuracy'] \n",
    "#measure=['roc_auc'] \n",
    "for m in measure:\n",
    "    result[m] = dict()\n",
    "data   =[(\"baseline\",base_line_features_array),(\"both\",both_acts_features_array),(\"summary\",summary_features_array),(\"all\",all_features_array)]\n",
    "for m in measure:\n",
    "    for d in data:\n",
    "        print \"running %s on %s\" %(m,d[0])\n",
    "        rf = RandomForestClassifier(n_estimators=200,n_jobs=-1)\n",
    "        x= cross_validation.cross_val_score(rf, d[1], target, cv=label_kfold,scoring=m)\n",
    "        result[m][d[0]] = np.mean(x)\n",
    "result        \n",
    "        "
   ]
  },
  {
   "cell_type": "code",
   "execution_count": 15,
   "metadata": {
    "collapsed": false
   },
   "outputs": [
    {
     "ename": "NameError",
     "evalue": "name 'result' is not defined",
     "output_type": "error",
     "traceback": [
      "\u001b[0;31m---------------------------------------------------------------------------\u001b[0m",
      "\u001b[0;31mNameError\u001b[0m                                 Traceback (most recent call last)",
      "\u001b[0;32m<ipython-input-15-b482f98d5cd1>\u001b[0m in \u001b[0;36m<module>\u001b[0;34m()\u001b[0m\n\u001b[0;32m----> 1\u001b[0;31m \u001b[0mresult_df\u001b[0m \u001b[1;33m=\u001b[0m \u001b[0mpd\u001b[0m\u001b[1;33m.\u001b[0m\u001b[0mDataFrame\u001b[0m\u001b[1;33m(\u001b[0m\u001b[0mresult\u001b[0m\u001b[1;33m)\u001b[0m\u001b[1;33m\u001b[0m\u001b[0m\n\u001b[0m\u001b[1;32m      2\u001b[0m \u001b[0mresult_df\u001b[0m\u001b[1;33m\u001b[0m\u001b[0m\n\u001b[1;32m      3\u001b[0m \u001b[0mtext_file\u001b[0m \u001b[1;33m=\u001b[0m \u001b[0mopen\u001b[0m\u001b[1;33m(\u001b[0m\u001b[1;34m\"..\\tbl\\auc_tbl.tex\"\u001b[0m\u001b[1;33m,\u001b[0m \u001b[1;34m\"w\"\u001b[0m\u001b[1;33m)\u001b[0m\u001b[1;33m\u001b[0m\u001b[0m\n\u001b[1;32m      4\u001b[0m \u001b[0mtext_file\u001b[0m\u001b[1;33m.\u001b[0m\u001b[0mwrite\u001b[0m\u001b[1;33m(\u001b[0m\u001b[0mresult_df\u001b[0m\u001b[1;33m.\u001b[0m\u001b[0mto_latex\u001b[0m\u001b[1;33m(\u001b[0m\u001b[1;33m)\u001b[0m\u001b[1;33m)\u001b[0m\u001b[1;33m\u001b[0m\u001b[0m\n\u001b[1;32m      5\u001b[0m \u001b[0mtext_file\u001b[0m\u001b[1;33m.\u001b[0m\u001b[0mclose\u001b[0m\u001b[1;33m(\u001b[0m\u001b[1;33m)\u001b[0m\u001b[1;33m\u001b[0m\u001b[0m\n",
      "\u001b[0;31mNameError\u001b[0m: name 'result' is not defined"
     ]
    }
   ],
   "source": [
    "result_df = pd.DataFrame(result)\n",
    "result_df\n",
    "text_file = open(\"..\\tbl\\auc_tbl.tex\", \"w\")\n",
    "text_file.write(result_df.to_latex())\n",
    "text_file.close()"
   ]
  },
  {
   "cell_type": "code",
   "execution_count": 14,
   "metadata": {
    "collapsed": false
   },
   "outputs": [
    {
     "name": "stdout",
     "output_type": "stream",
     "text": [
      "running roc_auc on baseline\n",
      "result for roc_auc is 0.656383\n",
      "running roc_auc on both\n",
      "result for roc_auc is 0.811789\n",
      "running roc_auc on summary\n",
      "result for roc_auc is 0.722027\n",
      "running roc_auc on all\n",
      "result for roc_auc is 0.846288\n"
     ]
    },
    {
     "data": {
      "text/plain": [
       "{'roc_auc': {'all': 0.84628821744380855,\n",
       "  'baseline': 0.65638282606188258,\n",
       "  'both': 0.81178919689087325,\n",
       "  'summary': 0.72202668508698309}}"
      ]
     },
     "execution_count": 14,
     "metadata": {},
     "output_type": "execute_result"
    }
   ],
   "source": [
    "from sklearn.ensemble import GradientBoostingClassifier\n",
    "#Use gb\n",
    "result = dict()\n",
    "#measure=['f1','recall','precision','roc_auc'] \n",
    "measure=['roc_auc'] \n",
    "for m in measure:\n",
    "    result[m] = dict()\n",
    "data   =[(\"baseline\",base_line_features_array),(\"both\",both_acts_features_array),(\"summary\",summary_features_array),(\"all\",all_features_array)]\n",
    "for m in measure:\n",
    "    for d in data:\n",
    "        print \"running %s on %s\" %(m,d[0])\n",
    "        rf = GradientBoostingClassifier(random_state=0, n_estimators=300)\n",
    "        x= cross_validation.cross_val_score(rf, d[1], target, cv=label_kfold,scoring=m)\n",
    "        print \"result for %s is %f\" %(m,np.mean(x))\n",
    "        result[m][d[0]] = np.mean(x)\n",
    "result       "
   ]
  },
  {
   "cell_type": "code",
   "execution_count": 14,
   "metadata": {
    "collapsed": false
   },
   "outputs": [
    {
     "data": {
      "image/png": "[encoded data removed]",
      "text/plain": [
       "<matplotlib.figure.Figure at 0x1a2c6240>"
      ]
     },
     "metadata": {},
     "output_type": "display_data"
    }
   ],
   "source": [
    "from sklearn.metrics import roc_curve, roc_auc_score\n",
    "import seaborn as sns\n",
    "sns.set_style(\"darkgrid\")\n",
    "mean_tpr = 0.0\n",
    "\n",
    "rf = RandomForestClassifier(n_estimators=200)\n",
    "datasets=[base_line_features_array,summary_features_array,both_acts_features_array,all_features_array]\n",
    "captions = ['current dialog act',\n",
    "          'summary features',\n",
    "          'current and previous dialog acts',\n",
    "          'all features']\n",
    "X=all_features_array\n",
    "y=target\n",
    "i=1\n",
    "j=0\n",
    "for a in datasets: \n",
    "    X=a\n",
    "    for train, test in label_kfold:\n",
    "        probas_ = rf.fit(X[train], y[train]).predict_proba(X[test])\n",
    "        # Compute ROC curve and area the curve\n",
    "        fpr, tpr, thresholds = roc_curve(y[test], probas_[:, 1])\n",
    "        mean_tpr += interp(mean_fpr, fpr, tpr)\n",
    "        mean_tpr[0] = 0.0\n",
    "        roc_auc = auc(fpr, tpr)\n",
    "        acc = rf.score(X[test], y[test])\n",
    "        plt.xlabel(\"False Positive Rate\")\n",
    "        plt.ylabel(\"True Positive Rate (recall)\")\n",
    "        plt.plot(fpr, tpr, label=\"%s(AUC:%.2f)\" % (captions[j],roc_auc), linewidth=3)\n",
    "        j = j + 1\n",
    "        break\n",
    "    plt.legend(loc='best')  \n",
    "    plt.savefig('../figures/roc.pdf')\n",
    "\n"
   ]
  },
  {
   "cell_type": "code",
   "execution_count": 13,
   "metadata": {
    "collapsed": false
   },
   "outputs": [
    {
     "name": "stdout",
     "output_type": "stream",
     "text": [
      "Feature ranking:\n",
      "1. feature precent_secs_sofar (0.226248)\n",
      "2. feature precent_words_sofar (0.214994)\n",
      "3. feature time_control (0.157149)\n",
      "4. feature words_control (0.132212)\n",
      "5. feature PAct_B (0.059880)\n",
      "6. feature Act_B (0.041923)\n",
      "7. feature PAct_SD (0.025176)\n",
      "8. feature PAct_Q (0.020661)\n",
      "9. feature Act_SD (0.018612)\n",
      "10. feature Act_+ (0.012187)\n",
      "11. feature Act_AA (0.011708)\n",
      "12. feature Act_Q (0.010851)\n",
      "13. feature PAct_AA (0.010731)\n",
      "14. feature PAct_SV (0.010154)\n",
      "15. feature PAct_+ (0.009296)\n",
      "16. feature Act_SV (0.008617)\n",
      "17. feature Act_% (0.007521)\n",
      "18. feature PAct_% (0.006323)\n",
      "19. feature Act_A (0.004780)\n",
      "20. feature PAct_A (0.004397)\n",
      "21. feature Act_NA (0.003493)\n",
      "22. feature PAct_NA (0.003086)\n"
     ]
    },
    {
     "data": {
      "image/png": "[encoded data removed]",
      "text/plain": [
       "<matplotlib.figure.Figure at 0x10acf5c0>"
      ]
     },
     "metadata": {},
     "output_type": "display_data"
    }
   ],
   "source": [
    "#Feature importance\n",
    "names =  [\n",
    " 'Act_%',\n",
    " 'Act_+',\n",
    " 'Act_A',\n",
    " 'Act_AA',\n",
    " 'Act_B',\n",
    " 'Act_NA',\n",
    " 'Act_Q',\n",
    " 'Act_SD',\n",
    " 'Act_SV',\n",
    " 'PAct_%',\n",
    " 'PAct_+',\n",
    " 'PAct_A',\n",
    " 'PAct_AA',\n",
    " 'PAct_B',\n",
    " 'PAct_NA',\n",
    " 'PAct_Q',\n",
    " 'PAct_SD',\n",
    " 'PAct_SV',\n",
    " 'precent_secs_sofar',\n",
    " 'precent_words_sofar',\n",
    " 'time_control',\n",
    " 'words_control'\n",
    "  ]\n",
    "sns.set_style(\"darkgrid\")\n",
    "X=all_features_array\n",
    "y=target\n",
    "rf = RandomForestClassifier(n_estimators=200)\n",
    "for train, test in label_kfold:\n",
    "        rf.fit(X[train], y[train])\n",
    "        importances = rf.feature_importances_\n",
    "        std = np.std([tree.feature_importances_ for tree in rf.estimators_],axis=0)\n",
    "        indices = np.argsort(importances)[::-1]\n",
    "    \n",
    "\n",
    "        # Print the feature ranking\n",
    "        print(\"Feature ranking:\")\n",
    "\n",
    "        for f in range(X.shape[1]):\n",
    "            print(\"%d. feature %s (%f)\" % (f + 1, names[indices[f]], importances[indices[f]]))\n",
    "\n",
    "        # Plot the feature importances of the forest\n",
    "        plt.figure(figsize=(20,10))\n",
    "        plt.title(\"Feature importances\")\n",
    "        plt.bar(range(X.shape[1]), importances[indices],\n",
    "               color=\"r\", yerr=std[indices], align=\"center\")\n",
    "        plt.xticks(range(X.shape[1]), indices)\n",
    "        plt.xlim([-1, X.shape[1]])\n",
    "        plt.show()\n",
    "        break\n",
    "\n"
   ]
  }
 ],
 "metadata": {
  "kernelspec": {
   "display_name": "Python 2",
   "language": "python",
   "name": "python2"
  },
  "language_info": {
   "codemirror_mode": {
    "name": "ipython",
    "version": 2
   },
   "file_extension": ".py",
   "mimetype": "text/x-python",
   "name": "python",
   "nbconvert_exporter": "python",
   "pygments_lexer": "ipython2",
   "version": "2.7.13"
  }
 },
 "nbformat": 4,
 "nbformat_minor": 1
}
