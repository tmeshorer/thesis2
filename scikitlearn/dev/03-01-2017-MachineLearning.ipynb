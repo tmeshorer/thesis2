{
 "cells": [
  {
   "cell_type": "code",
   "execution_count": 1,
   "metadata": {
    "collapsed": false
   },
   "outputs": [
    {
     "name": "stderr",
     "output_type": "stream",
     "text": [
      "C:\\Users\\tmeshorer\\Anaconda2\\lib\\site-packages\\sklearn\\cross_validation.py:44: DeprecationWarning: This module was deprecated in version 0.18 in favor of the model_selection module into which all the refactored classes and functions are moved. Also note that the interface of the new CV iterators are different from that of this module. This module will be removed in 0.20.\n",
      "  \"This module will be removed in 0.20.\", DeprecationWarning)\n",
      "C:\\Users\\tmeshorer\\Anaconda2\\lib\\site-packages\\sklearn\\grid_search.py:43: DeprecationWarning: This module was deprecated in version 0.18 in favor of the model_selection module into which all the refactored classes and functions are moved. This module will be removed in 0.20.\n",
      "  DeprecationWarning)\n"
     ]
    }
   ],
   "source": [
    "import pandas as pd\n",
    "import numpy as np\n",
    "import matplotlib\n",
    "pd.set_option('display.max_rows', 500)\n",
    "\n",
    "%matplotlib inline\n",
    "import warnings\n",
    "warnings.simplefilter('ignore', DeprecationWarning)\n",
    "\n",
    "import pandas as pd\n",
    "import numpy as np\n",
    "import matplotlib.pyplot as plt\n",
    "from sklearn.cross_validation import train_test_split\n",
    "from sklearn.linear_model import LogisticRegression\n",
    "from sklearn.metrics import accuracy_score\n",
    "from sklearn.ensemble import RandomForestClassifier\n",
    "from sklearn.cross_validation import cross_val_score\n",
    "from sklearn.metrics import classification_report\n",
    "from sklearn.svm import LinearSVC\n",
    "from sklearn.grid_search import GridSearchCV\n",
    "from sklearn.preprocessing import RobustScaler\n",
    "from sklearn.cross_validation import LabelKFold\n",
    "from scipy import interp\n",
    "from sklearn import cross_validation\n",
    "import pylab as pl\n",
    "\n",
    "from sklearn import svm\n",
    "from sklearn.metrics import roc_curve, auc\n",
    "from os import environ\n",
    "import matplotlib\n",
    "import numpy as np\n",
    "import matplotlib.pyplot as plt\n",
    "%matplotlib inline "
   ]
  },
  {
   "cell_type": "code",
   "execution_count": 22,
   "metadata": {
    "collapsed": false
   },
   "outputs": [
    {
     "data": {
      "text/plain": [
       "60565"
      ]
     },
     "execution_count": 22,
     "metadata": {},
     "output_type": "execute_result"
    }
   ],
   "source": [
    "df = pd.read_csv(\"../data/ml.csv\")\n",
    "len(df)"
   ]
  },
  {
   "cell_type": "code",
   "execution_count": 23,
   "metadata": {
    "collapsed": false
   },
   "outputs": [],
   "source": [
    "labels_s = df['hash']\n",
    "labels = labels_s.values\n",
    "label_kfold = LabelKFold(labels,n_folds=10)"
   ]
  },
  {
   "cell_type": "code",
   "execution_count": 24,
   "metadata": {
    "collapsed": true
   },
   "outputs": [],
   "source": [
    "tchange_column = df['tchange']\n",
    "target = tchange_column.values\n",
    "del df['tchange']"
   ]
  },
  {
   "cell_type": "code",
   "execution_count": 25,
   "metadata": {
    "collapsed": true
   },
   "outputs": [],
   "source": [
    "#base line\n",
    "from sklearn.cross_validation import LabelKFold\n",
    "\n",
    "X_only_act = df[[\n",
    " 'Act_%',\n",
    " 'Act_+',\n",
    " 'Act_A',\n",
    " 'Act_AA',\n",
    " 'Act_B',\n",
    " 'Act_NA',\n",
    " 'Act_Q',\n",
    " 'Act_SD',\n",
    " 'Act_SV']]\n",
    "\n",
    "base_line_features_array = X_only_act.values"
   ]
  },
  {
   "cell_type": "code",
   "execution_count": 26,
   "metadata": {
    "collapsed": true
   },
   "outputs": [],
   "source": [
    "X_both_acts = df[[\n",
    " 'Act_%',\n",
    " 'Act_+',\n",
    " 'Act_A',\n",
    " 'Act_AA',\n",
    " 'Act_B',\n",
    " 'Act_NA',\n",
    " 'Act_Q',\n",
    " 'Act_SD',\n",
    " 'Act_SV',\n",
    " 'PAct_%',\n",
    " 'PAct_+',\n",
    " 'PAct_A',\n",
    " 'PAct_AA',\n",
    " 'PAct_B',\n",
    " 'PAct_NA',\n",
    " 'PAct_Q',\n",
    " 'PAct_SD',\n",
    " 'PAct_SV',\n",
    "   ]]\n",
    "\n",
    "both_acts_features_array = X_both_acts.values"
   ]
  },
  {
   "cell_type": "code",
   "execution_count": 27,
   "metadata": {
    "collapsed": true
   },
   "outputs": [],
   "source": [
    "X_only_numeric = df[[\n",
    "     'precent_secs_sofar',\n",
    "     'precent_words_sofar',\n",
    "     'time_control',\n",
    "     'words_control' , \n",
    "    ]]\n",
    "\n",
    "summary_features_array = X_only_numeric.values"
   ]
  },
  {
   "cell_type": "code",
   "execution_count": 28,
   "metadata": {
    "collapsed": true
   },
   "outputs": [],
   "source": [
    "X_all =  df[[\n",
    " 'Act_%',\n",
    " 'Act_+',\n",
    " 'Act_A',\n",
    " 'Act_AA',\n",
    " 'Act_B',\n",
    " 'Act_NA',\n",
    " 'Act_Q',\n",
    " 'Act_SD',\n",
    " 'Act_SV',\n",
    " 'PAct_%',\n",
    " 'PAct_+',\n",
    " 'PAct_A',\n",
    " 'PAct_AA',\n",
    " 'PAct_B',\n",
    " 'PAct_NA',\n",
    " 'PAct_Q',\n",
    " 'PAct_SD',\n",
    " 'PAct_SV',\n",
    " 'precent_secs_sofar',\n",
    " 'precent_words_sofar',\n",
    " 'time_control',\n",
    " 'words_control'\n",
    "   ]]\n",
    "\n",
    "all_features_array = X_all.values"
   ]
  },
  {
   "cell_type": "code",
   "execution_count": 29,
   "metadata": {
    "collapsed": false
   },
   "outputs": [
    {
     "data": {
      "text/plain": [
       "60565"
      ]
     },
     "execution_count": 29,
     "metadata": {},
     "output_type": "execute_result"
    }
   ],
   "source": [
    "len(all_features_array)"
   ]
  },
  {
   "cell_type": "code",
   "execution_count": null,
   "metadata": {
    "collapsed": false
   },
   "outputs": [
    {
     "name": "stdout",
     "output_type": "stream",
     "text": [
      "running f1 on baseline\n",
      "running f1 on both\n",
      "running f1 on summary\n",
      "running f1 on all\n",
      "running recall on baseline\n",
      "running recall on both\n",
      "running recall on summary\n",
      "running recall on all\n",
      "running precision on baseline\n",
      "running precision on both\n",
      "running precision on summary\n",
      "running precision on all\n",
      "running roc_auc on baseline\n",
      "running roc_auc on both\n",
      "running roc_auc on summary\n"
     ]
    }
   ],
   "source": [
    "#Use random forest\n",
    "result = dict()\n",
    "measure=['f1','recall','precision','roc_auc','accuracy'] \n",
    "#measure=['roc_auc'] \n",
    "for m in measure:\n",
    "    result[m] = dict()\n",
    "data   =[(\"baseline\",base_line_features_array),(\"both\",both_acts_features_array),(\"summary\",summary_features_array),(\"all\",all_features_array)]\n",
    "for m in measure:\n",
    "    for d in data:\n",
    "        print \"running %s on %s\" %(m,d[0])\n",
    "        rf = RandomForestClassifier(n_estimators=200,n_jobs=-1)\n",
    "        x= cross_validation.cross_val_score(rf, d[1], target, cv=label_kfold,scoring=m)\n",
    "        result[m][d[0]] = np.mean(x)\n",
    "result        \n",
    "        "
   ]
  },
  {
   "cell_type": "code",
   "execution_count": 17,
   "metadata": {
    "collapsed": false
   },
   "outputs": [
    {
     "name": "stdout",
     "output_type": "stream",
     "text": [
      "\\begin{tabular}{lrrrrr}\n",
      "\\toprule\n",
      "{} &  accuracy &        f1 &  precision &    recall &   roc\\_auc \\\\\n",
      "\\midrule\n",
      "all      &  0.758771 &  0.779289 &   0.776226 &  0.781598 &  0.839711 \\\\\n",
      "baseline &  0.625909 &  0.576875 &   0.750083 &  0.468757 &  0.658477 \\\\\n",
      "both     &  0.749753 &  0.749143 &   0.820763 &  0.689140 &  0.812432 \\\\\n",
      "summary  &  0.653642 &  0.692980 &   0.671740 &  0.714266 &  0.693968 \\\\\n",
      "\\bottomrule\n",
      "\\end{tabular}\n",
      "\n"
     ]
    }
   ],
   "source": [
    "result_df = pd.DataFrame(result)\n",
    "result_df\n",
    "text_file = open(\"../tbl/auc_tbl.tex\", \"w\")\n",
    "text_file.write(result_df.to_latex())\n",
    "text_file.close()\n",
    "print result_df.to_latex()"
   ]
  },
  {
   "cell_type": "code",
   "execution_count": 14,
   "metadata": {
    "collapsed": false
   },
   "outputs": [
    {
     "name": "stdout",
     "output_type": "stream",
     "text": [
      "running roc_auc on baseline\n",
      "result for roc_auc is 0.656383\n",
      "running roc_auc on both\n",
      "result for roc_auc is 0.811789\n",
      "running roc_auc on summary\n",
      "result for roc_auc is 0.722027\n",
      "running roc_auc on all\n",
      "result for roc_auc is 0.846288\n"
     ]
    },
    {
     "data": {
      "text/plain": [
       "{'roc_auc': {'all': 0.84628821744380855,\n",
       "  'baseline': 0.65638282606188258,\n",
       "  'both': 0.81178919689087325,\n",
       "  'summary': 0.72202668508698309}}"
      ]
     },
     "execution_count": 14,
     "metadata": {},
     "output_type": "execute_result"
    }
   ],
   "source": [
    "from sklearn.ensemble import GradientBoostingClassifier\n",
    "#Use gb\n",
    "result = dict()\n",
    "#measure=['f1','recall','precision','roc_auc'] \n",
    "measure=['roc_auc'] \n",
    "for m in measure:\n",
    "    result[m] = dict()\n",
    "data   =[(\"baseline\",base_line_features_array),(\"both\",both_acts_features_array),(\"summary\",summary_features_array),(\"all\",all_features_array)]\n",
    "for m in measure:\n",
    "    for d in data:\n",
    "        print \"running %s on %s\" %(m,d[0])\n",
    "        rf = GradientBoostingClassifier(random_state=0, n_estimators=300)\n",
    "        x= cross_validation.cross_val_score(rf, d[1], target, cv=label_kfold,scoring=m)\n",
    "        print \"result for %s is %f\" %(m,np.mean(x))\n",
    "        result[m][d[0]] = np.mean(x)\n",
    "result       "
   ]
  },
  {
   "cell_type": "code",
   "execution_count": 20,
   "metadata": {
    "collapsed": false
   },
   "outputs": [
    {
     "data": {
      "image/png": "[encoded data removed]",
      "text/plain": [
       "<matplotlib.figure.Figure at 0x2375efd0>"
      ]
     },
     "metadata": {},
     "output_type": "display_data"
    }
   ],
   "source": [
    "from sklearn.metrics import roc_curve, roc_auc_score\n",
    "import seaborn as sns\n",
    "sns.set_style(\"darkgrid\")\n",
    "mean_tpr = 0.0\n",
    "\n",
    "rf = RandomForestClassifier(n_estimators=200)\n",
    "datasets=[base_line_features_array,summary_features_array,both_acts_features_array,all_features_array]\n",
    "captions = ['current dialog act',\n",
    "          'summary features',\n",
    "          'current and previous dialog acts',\n",
    "          'all features']\n",
    "X=all_features_array\n",
    "y=target\n",
    "i=1\n",
    "j=0\n",
    "for a in datasets: \n",
    "    X=a\n",
    "    for train, test in label_kfold:\n",
    "        probas_ = rf.fit(X[train], y[train]).predict_proba(X[test])\n",
    "        # Compute ROC curve and area the curve\n",
    "        fpr, tpr, thresholds = roc_curve(y[test], probas_[:, 1])\n",
    "        #mean_tpr += interp(mean_fpr, fpr, tpr)\n",
    "        #mean_tpr[0] = 0.0\n",
    "        roc_auc = auc(fpr, tpr)\n",
    "        acc = rf.score(X[test], y[test])\n",
    "        plt.xlabel(\"False Positive Rate\")\n",
    "        plt.ylabel(\"True Positive Rate (recall)\")\n",
    "        plt.plot(fpr, tpr, label=\"%s(AUC:%.2f)\" % (captions[j],roc_auc), linewidth=3)\n",
    "        j = j + 1\n",
    "        break\n",
    "    plt.legend(loc='best')  \n",
    "    plt.savefig('../figures/roc.pdf')\n",
    "\n"
   ]
  },
  {
   "cell_type": "code",
   "execution_count": 19,
   "metadata": {
    "collapsed": false
   },
   "outputs": [
    {
     "name": "stdout",
     "output_type": "stream",
     "text": [
      "Feature ranking:\n",
      "1. feature precent_secs_sofar (0.230334)\n",
      "2. feature precent_words_sofar (0.211252)\n",
      "3. feature time_control (0.158038)\n",
      "4. feature words_control (0.133128)\n",
      "5. feature PAct_B (0.059627)\n",
      "6. feature Act_B (0.038086)\n",
      "7. feature PAct_SD (0.027951)\n",
      "8. feature Act_SD (0.022430)\n",
      "9. feature PAct_Q (0.018422)\n",
      "10. feature Act_+ (0.012223)\n",
      "11. feature PAct_SV (0.011632)\n",
      "12. feature Act_AA (0.010932)\n",
      "13. feature Act_Q (0.010058)\n",
      "14. feature PAct_AA (0.009922)\n",
      "15. feature PAct_+ (0.009770)\n",
      "16. feature Act_SV (0.008521)\n",
      "17. feature Act_% (0.007124)\n",
      "18. feature PAct_% (0.005900)\n",
      "19. feature PAct_A (0.004268)\n",
      "20. feature Act_A (0.004167)\n",
      "21. feature Act_NA (0.003314)\n",
      "22. feature PAct_NA (0.002900)\n"
     ]
    },
    {
     "data": {
      "image/png": "[encoded data removed]",
      "text/plain": [
       "<matplotlib.figure.Figure at 0xc1eee80>"
      ]
     },
     "metadata": {},
     "output_type": "display_data"
    }
   ],
   "source": [
    "#Feature importance\n",
    "names =  [\n",
    " 'Act_%',\n",
    " 'Act_+',\n",
    " 'Act_A',\n",
    " 'Act_AA',\n",
    " 'Act_B',\n",
    " 'Act_NA',\n",
    " 'Act_Q',\n",
    " 'Act_SD',\n",
    " 'Act_SV',\n",
    " 'PAct_%',\n",
    " 'PAct_+',\n",
    " 'PAct_A',\n",
    " 'PAct_AA',\n",
    " 'PAct_B',\n",
    " 'PAct_NA',\n",
    " 'PAct_Q',\n",
    " 'PAct_SD',\n",
    " 'PAct_SV',\n",
    " 'precent_secs_sofar',\n",
    " 'precent_words_sofar',\n",
    " 'time_control',\n",
    " 'words_control'\n",
    "  ]\n",
    "sns.set_style(\"darkgrid\")\n",
    "X=all_features_array\n",
    "y=target\n",
    "rf = RandomForestClassifier(n_estimators=200)\n",
    "for train, test in label_kfold:\n",
    "        rf.fit(X[train], y[train])\n",
    "        importances = rf.feature_importances_\n",
    "        std = np.std([tree.feature_importances_ for tree in rf.estimators_],axis=0)\n",
    "        indices = np.argsort(importances)[::-1]\n",
    "    \n",
    "\n",
    "        # Print the feature ranking\n",
    "        print(\"Feature ranking:\")\n",
    "\n",
    "        for f in range(X.shape[1]):\n",
    "            print(\"%d. feature %s (%f)\" % (f + 1, names[indices[f]], importances[indices[f]]))\n",
    "\n",
    "        # Plot the feature importances of the forest\n",
    "        plt.figure(figsize=(20,10))\n",
    "        plt.title(\"Feature importances\")\n",
    "        plt.bar(range(X.shape[1]), importances[indices],\n",
    "               color=\"r\", yerr=std[indices], align=\"center\")\n",
    "        plt.xticks(range(X.shape[1]), indices)\n",
    "        plt.xlim([-1, X.shape[1]])\n",
    "        plt.show()\n",
    "        break\n",
    "\n"
   ]
  }
 ],
 "metadata": {
  "kernelspec": {
   "display_name": "Python 2",
   "language": "python",
   "name": "python2"
  },
  "language_info": {
   "codemirror_mode": {
    "name": "ipython",
    "version": 2
   },
   "file_extension": ".py",
   "mimetype": "text/x-python",
   "name": "python",
   "nbconvert_exporter": "python",
   "pygments_lexer": "ipython2",
   "version": "2.7.13"
  }
 },
 "nbformat": 4,
 "nbformat_minor": 1
}
